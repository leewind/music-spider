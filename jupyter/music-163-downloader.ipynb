{
 "cells": [
  {
   "cell_type": "code",
   "execution_count": 2,
   "metadata": {},
   "outputs": [],
   "source": [
    "import requests\n",
    "import json\n",
    "from lxml import etree\n",
    "import time"
   ]
  },
  {
   "cell_type": "code",
   "execution_count": 25,
   "metadata": {},
   "outputs": [],
   "source": [
    "page = 5\n",
    "payload = {\n",
    "    \"_\":1600002911796,\n",
    "    \"g_tk\":5381,\n",
    "    \"uin\": None,\n",
    "    \"format\":\"json\",\n",
    "    \"inCharset\":\"utf-8\",\n",
    "    \"outCharset\":\"utf-8\",\n",
    "    \"notice\":0,\n",
    "    \"platform\":\"h5\",\n",
    "    \"needNewCode\":1,\n",
    "    \"g_tk_new_20200303\":5381,\n",
    "    \"w\":\"乐队的夏天2\",\n",
    "    \"zhidaqu\":1,\n",
    "    \"catZhida\":1,\n",
    "    \"t\":0,\n",
    "    \"flag\":1,\n",
    "    \"ie\":\"utf-8\",\n",
    "    \"sem\":1,\n",
    "    \"aggr\":0,\n",
    "    \"perpage\":20,\n",
    "    \"n\":20,\n",
    "    \"p\":page,\n",
    "    \"remoteplace\":\"txt.mqq.all\"\n",
    "}\n",
    "\n",
    "headers = {\n",
    "    \"accept\": \"application/json\",\n",
    "    \"accept-encoding\": \"gzip, deflate, br\",\n",
    "    \"accept-language\": \"zh-CN,zh;q=0.9,en;q=0.8,ja;q=0.7,ko;q=0.6,zh-TW;q=0.5\",\n",
    "    \"origin\": \"https://i.y.qq.com\",\n",
    "    \"referer\": \"https://i.y.qq.com/n2/m/index.html\",\n",
    "    \"sec-fetch-dest\": \"empty\",\n",
    "    \"sec-fetch-mode\": \"cors\",\n",
    "    \"sec-fetch-site\": \"same-site\",\n",
    "    \"user-agent\": \"Mozilla/5.0 (iPhone; CPU iPhone OS 13_2_3 like Mac OS X) AppleWebKit/605.1.15 (KHTML, like Gecko) Version/13.0.3 Mobile/15E148 Safari/604.1\"\n",
    "}\n",
    "\n",
    "\n",
    "r = requests.get(\"https://c.y.qq.com/soso/fcgi-bin/search_for_qq_cp\", params=payload, headers=headers)"
   ]
  },
  {
   "cell_type": "code",
   "execution_count": 26,
   "metadata": {
    "scrolled": false
   },
   "outputs": [],
   "source": [
    "data = json.loads(r.text)\n",
    "songs = data['data']['song']['list']"
   ]
  },
  {
   "cell_type": "code",
   "execution_count": 27,
   "metadata": {},
   "outputs": [
    {
     "data": {
      "text/plain": [
       "{'albumid': 7389129,\n",
       " 'albummid': '0000hlJR1ygFbB',\n",
       " 'albumname': '乐队的夏天 第12期',\n",
       " 'albumname_hilight': '<span class=\"c_tx_highlight\">乐队的夏天</span> 第12期',\n",
       " 'alertid': 23,\n",
       " 'chinesesinger': 0,\n",
       " 'docid': '15574486742450882343',\n",
       " 'grp': [],\n",
       " 'interval': 313,\n",
       " 'isonly': 0,\n",
       " 'lyric': '',\n",
       " 'lyric_hilight': '',\n",
       " 'msgid': 14,\n",
       " 'nt': 1969670306,\n",
       " 'pay': {'payalbum': 0,\n",
       "  'payalbumprice': 0,\n",
       "  'paydownload': 1,\n",
       "  'payinfo': 1,\n",
       "  'payplay': 0,\n",
       "  'paytrackmouth': 1,\n",
       "  'paytrackprice': 200},\n",
       " 'preview': {'trybegin': 172413, 'tryend': 251766, 'trysize': 960887},\n",
       " 'pubtime': 1565366400,\n",
       " 'pure': 0,\n",
       " 'singer': [{'id': 13930,\n",
       "   'mid': '004C8Qvh16lmb8',\n",
       "   'name': '痛仰乐队',\n",
       "   'name_hilight': '痛仰乐队'}],\n",
       " 'size128': 5022419,\n",
       " 'size320': 12555716,\n",
       " 'sizeape': 0,\n",
       " 'sizeflac': 60786477,\n",
       " 'sizeogg': 6766871,\n",
       " 'songid': 235936138,\n",
       " 'songmid': '0019KpsS1hUUEo',\n",
       " 'songname': '生命中最美丽的一天 (Live)',\n",
       " 'songname_hilight': '生命中最美丽的一天 (Live)',\n",
       " 'stream': 1,\n",
       " 'switch': 636675,\n",
       " 't': 1,\n",
       " 'tag': 10,\n",
       " 'type': 0,\n",
       " 'ver': 0,\n",
       " 'vid': ''}"
      ]
     },
     "execution_count": 27,
     "metadata": {},
     "output_type": "execute_result"
    }
   ],
   "source": [
    "songs[0]"
   ]
  },
  {
   "cell_type": "code",
   "execution_count": 28,
   "metadata": {},
   "outputs": [],
   "source": [
    "def get_link(song):\n",
    "    page = requests.get(\"https://i.y.qq.com/v8/playsong.html\", params={\"songmid\":song['songmid']}, headers=headers)\n",
    "\n",
    "    html = etree.HTML(page.text)\n",
    "    audio = html.xpath('.//audio/@src')\n",
    "    \n",
    "    if len(audio) > 0:\n",
    "        return audio[0]"
   ]
  },
  {
   "cell_type": "code",
   "execution_count": 29,
   "metadata": {},
   "outputs": [],
   "source": [
    "for song in songs:\n",
    "    link = get_link(song)\n",
    "    \n",
    "    response = requests.get(link, headers=headers)\n",
    "    \n",
    "    with open('../music/%s.m4a' % (song['songname']), 'wb') as f2:\n",
    "        for chunk in response.iter_content():\n",
    "            f2.write(chunk)  #保存音频至music文件夹下\n",
    "    \n",
    "    time.sleep(10)"
   ]
  },
  {
   "cell_type": "code",
   "execution_count": null,
   "metadata": {},
   "outputs": [],
   "source": []
  }
 ],
 "metadata": {
  "kernelspec": {
   "display_name": "Python 3",
   "language": "python",
   "name": "python3"
  },
  "language_info": {
   "codemirror_mode": {
    "name": "ipython",
    "version": 3
   },
   "file_extension": ".py",
   "mimetype": "text/x-python",
   "name": "python",
   "nbconvert_exporter": "python",
   "pygments_lexer": "ipython3",
   "version": "3.7.1"
  }
 },
 "nbformat": 4,
 "nbformat_minor": 2
}
